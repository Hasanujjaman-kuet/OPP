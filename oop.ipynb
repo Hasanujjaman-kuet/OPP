{
 "cells": [
  {
   "cell_type": "markdown",
   "metadata": {},
   "source": [
    "# Object Oriented Programming\n",
    "- Class\n",
    "- Object\n",
    "- Encapsulation\n",
    "- Abstraction\n",
    "- Polymorphism\n",
    "- Inheritance"
   ]
  },
  {
   "cell_type": "markdown",
   "metadata": {},
   "source": [
    "## Class and Objects"
   ]
  },
  {
   "cell_type": "code",
   "execution_count": 11,
   "metadata": {},
   "outputs": [],
   "source": [
    "# Creating a Class\n",
    "class Product:\n",
    "    # Global or Class Features\n",
    "    platform = 'Amazon'\n",
    "\n",
    "    # Constructor\n",
    "    def __init__(self, title:str, price: float) -> None:\n",
    "        # instance or object based features\n",
    "        self.title = title\n",
    "        self.price = price\n",
    "        print(\"Inintialized...\")\n",
    "    \n",
    "    # Behaviours or methods\n",
    "    def getDiscount(self):\n",
    "        return self.price - self.price *(10/100)\n",
    "    \n",
    "    def __repr__(self):\n",
    "        return f'Product(title={self.title}, price={self.price})'"
   ]
  },
  {
   "cell_type": "code",
   "execution_count": 16,
   "metadata": {},
   "outputs": [
    {
     "name": "stdout",
     "output_type": "stream",
     "text": [
      "Inintialized...\n",
      "Inintialized...\n"
     ]
    }
   ],
   "source": [
    "# creating Object\n",
    "p1 = Product('Iphone x30', 120000.0)\n",
    "p2 = Product('Iphone x40', 140000.0)"
   ]
  },
  {
   "cell_type": "code",
   "execution_count": 18,
   "metadata": {},
   "outputs": [
    {
     "data": {
      "text/plain": [
       "Product(title=Iphone x40, price=140000.0)"
      ]
     },
     "execution_count": 18,
     "metadata": {},
     "output_type": "execute_result"
    }
   ],
   "source": [
    "p1          # auto calling __repr__()\n",
    "p2"
   ]
  },
  {
   "cell_type": "code",
   "execution_count": 25,
   "metadata": {},
   "outputs": [
    {
     "data": {
      "text/plain": [
       "'Amazon'"
      ]
     },
     "execution_count": 25,
     "metadata": {},
     "output_type": "execute_result"
    }
   ],
   "source": [
    "# access features\n",
    "p1.title\n",
    "p2.title\n",
    "p1.platform\n",
    "p2.platform"
   ]
  },
  {
   "cell_type": "code",
   "execution_count": 27,
   "metadata": {},
   "outputs": [
    {
     "data": {
      "text/plain": [
       "110000.0"
      ]
     },
     "execution_count": 27,
     "metadata": {},
     "output_type": "execute_result"
    }
   ],
   "source": [
    "# update features\n",
    "p1.price = 110000.0\n",
    "p1.price"
   ]
  },
  {
   "cell_type": "code",
   "execution_count": 19,
   "metadata": {},
   "outputs": [
    {
     "data": {
      "text/plain": [
       "126000.0"
      ]
     },
     "execution_count": 19,
     "metadata": {},
     "output_type": "execute_result"
    }
   ],
   "source": [
    "# access methods\n",
    "p1.getDiscount()\n",
    "p2.getDiscount()"
   ]
  },
  {
   "cell_type": "code",
   "execution_count": 20,
   "metadata": {},
   "outputs": [
    {
     "data": {
      "text/plain": [
       "True"
      ]
     },
     "execution_count": 20,
     "metadata": {},
     "output_type": "execute_result"
    }
   ],
   "source": [
    "isinstance(p1, Product)    # verifying\n",
    "isinstance(p2, Product) "
   ]
  },
  {
   "cell_type": "code",
   "execution_count": 29,
   "metadata": {},
   "outputs": [
    {
     "ename": "AttributeError",
     "evalue": "'Product' object has no attribute 'price'",
     "output_type": "error",
     "traceback": [
      "\u001b[1;31m---------------------------------------------------------------------------\u001b[0m",
      "\u001b[1;31mAttributeError\u001b[0m                            Traceback (most recent call last)",
      "\u001b[1;32md:\\Python\\Professional\\Machine-Learning\\MLDS1018\\3_OOP\\oop.ipynb Cell 9\u001b[0m in \u001b[0;36m<cell line: 3>\u001b[1;34m()\u001b[0m\n\u001b[0;32m      <a href='vscode-notebook-cell:/d%3A/Python/Professional/Machine-Learning/MLDS1018/3_OOP/oop.ipynb#ch0000006?line=0'>1</a>\u001b[0m \u001b[39m# deletion\u001b[39;00m\n\u001b[0;32m      <a href='vscode-notebook-cell:/d%3A/Python/Professional/Machine-Learning/MLDS1018/3_OOP/oop.ipynb#ch0000006?line=1'>2</a>\u001b[0m \u001b[39mdel\u001b[39;00m p1\u001b[39m.\u001b[39mprice\n\u001b[1;32m----> <a href='vscode-notebook-cell:/d%3A/Python/Professional/Machine-Learning/MLDS1018/3_OOP/oop.ipynb#ch0000006?line=2'>3</a>\u001b[0m p1\u001b[39m.\u001b[39;49mprice\n",
      "\u001b[1;31mAttributeError\u001b[0m: 'Product' object has no attribute 'price'"
     ]
    }
   ],
   "source": [
    "# deletion\n",
    "del p1.price\n",
    "p1.price"
   ]
  },
  {
   "cell_type": "code",
   "execution_count": 30,
   "metadata": {},
   "outputs": [],
   "source": [
    "del p1"
   ]
  },
  {
   "cell_type": "markdown",
   "metadata": {},
   "source": [
    "## Getter, Setter, Deleter"
   ]
  },
  {
   "cell_type": "code",
   "execution_count": 61,
   "metadata": {},
   "outputs": [],
   "source": [
    "# Creating a Class\n",
    "class Product:\n",
    "    # Global or Class Features\n",
    "    platform = 'Amazon'\n",
    "\n",
    "    # Constructor\n",
    "    def __init__(self, title:str, price: float) -> None:\n",
    "        # instance or object based features\n",
    "        self.title = title\n",
    "        self.price = price\n",
    "        self.__secretcode = 4545435   # private feature    \n",
    "        print(\"Inintialized...\")\n",
    "    \n",
    "    # Behaviours or methods\n",
    "    @property\n",
    "    def secretcode(self):      # getter method\n",
    "        return self.__secretcode\n",
    "\n",
    "    @secretcode.setter\n",
    "    def secretcode(self, new):    # setter\n",
    "        self.__secretcode = new\n",
    "\n",
    "    @secretcode.deleter\n",
    "    def secretcode(self):    # deleter\n",
    "        del self.__secretcode\n",
    "\n",
    "    def getDiscount(self):\n",
    "        return self.price - self.price *(10/100)\n",
    "    \n",
    "    def __repr__(self):\n",
    "        return f'Product(title={self.title}, price={self.price})'"
   ]
  },
  {
   "cell_type": "code",
   "execution_count": 62,
   "metadata": {},
   "outputs": [
    {
     "name": "stdout",
     "output_type": "stream",
     "text": [
      "Inintialized...\n",
      "Inintialized...\n"
     ]
    }
   ],
   "source": [
    "p1 = Product('Iphone x30', 120000.0)\n",
    "p2 = Product('Iphone x40', 140000.0)"
   ]
  },
  {
   "cell_type": "code",
   "execution_count": 63,
   "metadata": {},
   "outputs": [
    {
     "data": {
      "text/plain": [
       "4545435"
      ]
     },
     "execution_count": 63,
     "metadata": {},
     "output_type": "execute_result"
    }
   ],
   "source": [
    "p1.secretcode       # auto calling getter method"
   ]
  },
  {
   "cell_type": "code",
   "execution_count": 64,
   "metadata": {},
   "outputs": [],
   "source": [
    "p1.secretcode = 6758       # auto calling setter method"
   ]
  },
  {
   "cell_type": "code",
   "execution_count": 65,
   "metadata": {},
   "outputs": [],
   "source": [
    "del p1.secretcode          # auto calling deleter method"
   ]
  },
  {
   "cell_type": "code",
   "execution_count": 66,
   "metadata": {},
   "outputs": [
    {
     "ename": "AttributeError",
     "evalue": "'Product' object has no attribute '_Product__secretcode'",
     "output_type": "error",
     "traceback": [
      "\u001b[1;31m---------------------------------------------------------------------------\u001b[0m",
      "\u001b[1;31mAttributeError\u001b[0m                            Traceback (most recent call last)",
      "\u001b[1;32md:\\Python\\Professional\\Machine-Learning\\MLDS1018\\3_OOP\\oop.ipynb Cell 18\u001b[0m in \u001b[0;36m<cell line: 1>\u001b[1;34m()\u001b[0m\n\u001b[1;32m----> <a href='vscode-notebook-cell:/d%3A/Python/Professional/Machine-Learning/MLDS1018/3_OOP/oop.ipynb#ch0000017?line=0'>1</a>\u001b[0m p1\u001b[39m.\u001b[39;49msecretcode\n",
      "\u001b[1;32md:\\Python\\Professional\\Machine-Learning\\MLDS1018\\3_OOP\\oop.ipynb Cell 18\u001b[0m in \u001b[0;36mProduct.secretcode\u001b[1;34m(self)\u001b[0m\n\u001b[0;32m     <a href='vscode-notebook-cell:/d%3A/Python/Professional/Machine-Learning/MLDS1018/3_OOP/oop.ipynb#ch0000017?line=14'>15</a>\u001b[0m \u001b[39m@property\u001b[39m\n\u001b[0;32m     <a href='vscode-notebook-cell:/d%3A/Python/Professional/Machine-Learning/MLDS1018/3_OOP/oop.ipynb#ch0000017?line=15'>16</a>\u001b[0m \u001b[39mdef\u001b[39;00m \u001b[39msecretcode\u001b[39m(\u001b[39mself\u001b[39m):      \u001b[39m# getter method\u001b[39;00m\n\u001b[1;32m---> <a href='vscode-notebook-cell:/d%3A/Python/Professional/Machine-Learning/MLDS1018/3_OOP/oop.ipynb#ch0000017?line=16'>17</a>\u001b[0m     \u001b[39mreturn\u001b[39;00m \u001b[39mself\u001b[39;49m\u001b[39m.\u001b[39;49m__secretcode\n",
      "\u001b[1;31mAttributeError\u001b[0m: 'Product' object has no attribute '_Product__secretcode'"
     ]
    }
   ],
   "source": [
    "p1.secretcode"
   ]
  },
  {
   "cell_type": "code",
   "execution_count": null,
   "metadata": {},
   "outputs": [],
   "source": []
  },
  {
   "cell_type": "markdown",
   "metadata": {},
   "source": [
    "## Magic Metghods and Operator Overloading"
   ]
  },
  {
   "cell_type": "code",
   "execution_count": 112,
   "metadata": {},
   "outputs": [],
   "source": [
    "# Creating a Class\n",
    "class Product:\n",
    "    # Global or Class Features\n",
    "    platform = 'Amazon'\n",
    "\n",
    "    # Constructor\n",
    "    def __init__(self, title:str, price: float) -> None:\n",
    "        # instance or object based features\n",
    "        self.title = title\n",
    "        self.price = price\n",
    "        self.__secretcode = 4545435   # private feature    \n",
    "        print(\"Inintialized...\")\n",
    "    \n",
    "    # operator overloaing\n",
    "    def __lt__(self, other):\n",
    "        return self.price < other.price\n",
    "    \n",
    "    def __eq__(self, other):\n",
    "        return self.title == other.title\n",
    "\n",
    "\n",
    "    def __le__(self, other):\n",
    "        return self.price <= other.price\n",
    "    # Magic Methods\n",
    "    def __str__(self):\n",
    "        return f'Product(title={self.title}, price={self.price})'\n",
    "    \n",
    "    def __repr__(self):\n",
    "        return f'Product(title={self.title}, price={self.price})'"
   ]
  },
  {
   "cell_type": "code",
   "execution_count": 115,
   "metadata": {},
   "outputs": [
    {
     "name": "stdout",
     "output_type": "stream",
     "text": [
      "Inintialized...\n",
      "Inintialized...\n"
     ]
    }
   ],
   "source": [
    "p1 = Product('Iphone x30', 140000.0)\n",
    "p2 = Product('Iphone x40', 140000.0)"
   ]
  },
  {
   "cell_type": "code",
   "execution_count": 116,
   "metadata": {},
   "outputs": [
    {
     "name": "stdout",
     "output_type": "stream",
     "text": [
      "Product(title=Iphone x30, price=140000.0)\n"
     ]
    }
   ],
   "source": [
    "print(p1)"
   ]
  },
  {
   "cell_type": "code",
   "execution_count": 117,
   "metadata": {},
   "outputs": [
    {
     "data": {
      "text/plain": [
       "Product(title=Iphone x30, price=140000.0)"
      ]
     },
     "execution_count": 117,
     "metadata": {},
     "output_type": "execute_result"
    }
   ],
   "source": [
    "p1"
   ]
  },
  {
   "cell_type": "code",
   "execution_count": 118,
   "metadata": {},
   "outputs": [
    {
     "data": {
      "text/plain": [
       "False"
      ]
     },
     "execution_count": 118,
     "metadata": {},
     "output_type": "execute_result"
    }
   ],
   "source": [
    "p1 < p2     # calling __lt__()"
   ]
  },
  {
   "cell_type": "code",
   "execution_count": 119,
   "metadata": {},
   "outputs": [
    {
     "data": {
      "text/plain": [
       "False"
      ]
     },
     "execution_count": 119,
     "metadata": {},
     "output_type": "execute_result"
    }
   ],
   "source": [
    "p1 > p2    # calling __gt__()"
   ]
  },
  {
   "cell_type": "code",
   "execution_count": 120,
   "metadata": {},
   "outputs": [
    {
     "data": {
      "text/plain": [
       "True"
      ]
     },
     "execution_count": 120,
     "metadata": {},
     "output_type": "execute_result"
    }
   ],
   "source": [
    "p1.title = p2.title\n",
    "p1 == p2   # calling __eq__()"
   ]
  },
  {
   "cell_type": "code",
   "execution_count": 121,
   "metadata": {},
   "outputs": [
    {
     "data": {
      "text/plain": [
       "False"
      ]
     },
     "execution_count": 121,
     "metadata": {},
     "output_type": "execute_result"
    }
   ],
   "source": [
    "p1 != p2    # calling __neq__()"
   ]
  },
  {
   "cell_type": "code",
   "execution_count": 122,
   "metadata": {},
   "outputs": [
    {
     "data": {
      "text/plain": [
       "True"
      ]
     },
     "execution_count": 122,
     "metadata": {},
     "output_type": "execute_result"
    }
   ],
   "source": [
    "p1 <= p2"
   ]
  },
  {
   "cell_type": "code",
   "execution_count": 123,
   "metadata": {},
   "outputs": [
    {
     "data": {
      "text/plain": [
       "True"
      ]
     },
     "execution_count": 123,
     "metadata": {},
     "output_type": "execute_result"
    }
   ],
   "source": [
    "p1 >= p2"
   ]
  },
  {
   "cell_type": "markdown",
   "metadata": {},
   "source": [
    "# classmethod and static method"
   ]
  },
  {
   "cell_type": "code",
   "execution_count": 138,
   "metadata": {},
   "outputs": [],
   "source": [
    "# Creating a Class\n",
    "class Product:\n",
    "    # Global or Class Features\n",
    "    platform = 'Amazon'\n",
    "\n",
    "    # Constructor\n",
    "    def __init__(self, title:str, price: float) -> None:\n",
    "        # instance or object based features\n",
    "        self.title = title\n",
    "        self.price = price\n",
    "        self.__secretcode = 4545435   # private feature\n",
    "    \n",
    "    @classmethod\n",
    "    def objectFromStr(cls, string: str):\n",
    "        title, price = string.split(sep='-')\n",
    "        return cls(title, float(price))\n",
    "    \n",
    "    @staticmethod\n",
    "    def add(a, b):\n",
    "        return a+b\n",
    "\n",
    "    def __repr__(self):\n",
    "        return f'Product(title={self.title}, price={self.price}, platform={__class__.platform})'"
   ]
  },
  {
   "cell_type": "code",
   "execution_count": 139,
   "metadata": {},
   "outputs": [
    {
     "data": {
      "text/plain": [
       "['Iphone X40', '120000.0']"
      ]
     },
     "execution_count": 139,
     "metadata": {},
     "output_type": "execute_result"
    }
   ],
   "source": [
    "'Iphone X40-120000.0'.split(sep='-')"
   ]
  },
  {
   "cell_type": "code",
   "execution_count": 140,
   "metadata": {},
   "outputs": [
    {
     "data": {
      "text/plain": [
       "Product(title=Iphone X40, price=120000.0, platform=Amazon)"
      ]
     },
     "execution_count": 140,
     "metadata": {},
     "output_type": "execute_result"
    }
   ],
   "source": [
    "p3 = Product.objectFromStr('Iphone X40-120000.0')\n",
    "p3"
   ]
  },
  {
   "cell_type": "code",
   "execution_count": 137,
   "metadata": {},
   "outputs": [
    {
     "data": {
      "text/plain": [
       "5"
      ]
     },
     "execution_count": 137,
     "metadata": {},
     "output_type": "execute_result"
    }
   ],
   "source": [
    "Product.add(2,3)"
   ]
  },
  {
   "cell_type": "code",
   "execution_count": 141,
   "metadata": {},
   "outputs": [],
   "source": [
    "p3.platform = 'Flipkart'"
   ]
  },
  {
   "cell_type": "code",
   "execution_count": 143,
   "metadata": {},
   "outputs": [
    {
     "data": {
      "text/plain": [
       "'Flipkart'"
      ]
     },
     "execution_count": 143,
     "metadata": {},
     "output_type": "execute_result"
    }
   ],
   "source": [
    "p3.platform"
   ]
  },
  {
   "cell_type": "code",
   "execution_count": 145,
   "metadata": {},
   "outputs": [],
   "source": [
    "p3.__class__.platform = 'Flip'"
   ]
  },
  {
   "cell_type": "code",
   "execution_count": 146,
   "metadata": {},
   "outputs": [
    {
     "data": {
      "text/plain": [
       "Product(title=Iphone X40, price=120000.0, platform=Flip)"
      ]
     },
     "execution_count": 146,
     "metadata": {},
     "output_type": "execute_result"
    }
   ],
   "source": [
    "p3"
   ]
  },
  {
   "cell_type": "code",
   "execution_count": null,
   "metadata": {},
   "outputs": [],
   "source": []
  }
 ],
 "metadata": {
  "kernelspec": {
   "display_name": "Python 3.10.2 64-bit",
   "language": "python",
   "name": "python3"
  },
  "language_info": {
   "codemirror_mode": {
    "name": "ipython",
    "version": 3
   },
   "file_extension": ".py",
   "mimetype": "text/x-python",
   "name": "python",
   "nbconvert_exporter": "python",
   "pygments_lexer": "ipython3",
   "version": "3.10.2"
  },
  "orig_nbformat": 4,
  "vscode": {
   "interpreter": {
    "hash": "369f2c481f4da34e4445cda3fffd2e751bd1c4d706f27375911949ba6bb62e1c"
   }
  }
 },
 "nbformat": 4,
 "nbformat_minor": 2
}
